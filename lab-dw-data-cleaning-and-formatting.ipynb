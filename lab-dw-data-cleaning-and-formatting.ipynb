{
 "cells": [
  {
   "cell_type": "markdown",
   "id": "25d7736c-ba17-4aff-b6bb-66eba20fbf4e",
   "metadata": {
    "id": "25d7736c-ba17-4aff-b6bb-66eba20fbf4e"
   },
   "source": [
    "# Lab | Data Cleaning and Formatting"
   ]
  },
  {
   "cell_type": "markdown",
   "id": "d1973e9e-8be6-4039-b70e-d73ee0d94c99",
   "metadata": {
    "id": "d1973e9e-8be6-4039-b70e-d73ee0d94c99"
   },
   "source": [
    "In this lab, we will be working with the customer data from an insurance company, which can be found in the CSV file located at the following link: https://raw.githubusercontent.com/data-bootcamp-v4/data/main/file1.csv\n"
   ]
  },
  {
   "cell_type": "markdown",
   "id": "31b8a9e7-7db9-4604-991b-ef6771603e57",
   "metadata": {
    "id": "31b8a9e7-7db9-4604-991b-ef6771603e57"
   },
   "source": [
    "# Challenge 1: Data Cleaning and Formatting"
   ]
  },
  {
   "cell_type": "markdown",
   "id": "81553f19-9f2c-484b-8940-520aff884022",
   "metadata": {
    "id": "81553f19-9f2c-484b-8940-520aff884022"
   },
   "source": [
    "## Exercise 1: Cleaning Column Names"
   ]
  },
  {
   "cell_type": "markdown",
   "id": "34a929f4-1be4-4fa8-adda-42ffd920be90",
   "metadata": {
    "id": "34a929f4-1be4-4fa8-adda-42ffd920be90"
   },
   "source": [
    "To ensure consistency and ease of use, standardize the column names of the dataframe. Start by taking a first look at the dataframe and identifying any column names that need to be modified. Use appropriate naming conventions and make sure that column names are descriptive and informative.\n",
    "\n",
    "*Hint*:\n",
    "- *Column names should be in lower case*\n",
    "- *White spaces in column names should be replaced by `_`*\n",
    "- *`st` could be replaced for `state`*"
   ]
  },
  {
   "cell_type": "markdown",
   "id": "2a260637",
   "metadata": {},
   "source": [
    "# Cleaning/Wrangling/EDA"
   ]
  },
  {
   "cell_type": "code",
   "execution_count": null,
   "id": "5810735c-8056-4442-bbf2-dda38d3e284a",
   "metadata": {
    "id": "5810735c-8056-4442-bbf2-dda38d3e284a"
   },
   "outputs": [],
   "source": [
    "import pandas as pd\n",
    "import numpy as np"
   ]
  },
  {
   "cell_type": "code",
   "execution_count": null,
   "id": "a8a07514",
   "metadata": {},
   "outputs": [],
   "source": [
    "data_spec1 = pd.read_csv(\"https://raw.githubusercontent.com/data-bootcamp-v4/data/main/file1.csv\")"
   ]
  },
  {
   "cell_type": "code",
   "execution_count": null,
   "id": "4f142c68",
   "metadata": {},
   "outputs": [],
   "source": [
    "data_spec1"
   ]
  },
  {
   "cell_type": "code",
   "execution_count": null,
   "id": "9054a5c7",
   "metadata": {},
   "outputs": [],
   "source": [
    "# Standardization of columns names into lower cases\n",
    "data_spec1.columns = data_spec1.columns.str.lower().str.replace(\" \",\"_\")\n",
    "\n",
    "data_spec1"
   ]
  },
  {
   "cell_type": "code",
   "execution_count": null,
   "id": "d0c27a5a",
   "metadata": {},
   "outputs": [],
   "source": [
    "# Renaming column \n",
    "data_spec1 = data_spec1.rename(columns={\"st\": \"state\"})"
   ]
  },
  {
   "cell_type": "code",
   "execution_count": null,
   "id": "0191ddc8",
   "metadata": {},
   "outputs": [],
   "source": [
    "column_names = data_spec1.columns\n",
    "print(column_names)\n",
    "# as we can see below in the list of column names the previous column name called st is now state"
   ]
  },
  {
   "cell_type": "markdown",
   "id": "9cb501ec-36ff-4589-b872-6252bb150316",
   "metadata": {
    "id": "9cb501ec-36ff-4589-b872-6252bb150316"
   },
   "source": [
    "## Exercise 2: Cleaning invalid Values"
   ]
  },
  {
   "cell_type": "markdown",
   "id": "771fdcf3-8e20-4b06-9c24-3a93ba2b0909",
   "metadata": {
    "id": "771fdcf3-8e20-4b06-9c24-3a93ba2b0909"
   },
   "source": [
    "The dataset contains columns with inconsistent and incorrect values that could affect the accuracy of our analysis. Therefore, we need to clean these columns to ensure that they only contain valid data.\n",
    "\n",
    "Note that this exercise will focus only on cleaning inconsistent values and will not involve handling null values (NaN or None).\n",
    "\n",
    "*Hint*:\n",
    "- *Gender column contains various inconsistent values such as \"F\", \"M\", \"Femal\", \"Male\", \"female\", which need to be standardized, for example, to \"M\" and \"F\".*\n",
    "- *State abbreviations be can replaced with its full name, for example \"AZ\": \"Arizona\", \"Cali\": \"California\", \"WA\": \"Washington\"*\n",
    "- *In education, \"Bachelors\" could be replaced by \"Bachelor\"*\n",
    "- *In Customer Lifetime Value, delete the `%` character*\n",
    "- *In vehicle class, \"Sports Car\", \"Luxury SUV\" and \"Luxury Car\" could be replaced by \"Luxury\"*"
   ]
  },
  {
   "cell_type": "code",
   "execution_count": null,
   "id": "c1716f0f",
   "metadata": {},
   "outputs": [],
   "source": [
    "data_spec1['gender'].unique()\n",
    "# Replace inconsistent and incorrect values with \"F\""
   ]
  },
  {
   "cell_type": "code",
   "execution_count": null,
   "id": "3f8ee5cb-50ab-48af-8a9f-9a389804033c",
   "metadata": {
    "id": "3f8ee5cb-50ab-48af-8a9f-9a389804033c"
   },
   "outputs": [],
   "source": [
    "# Replace inconsistent and incorrect values with \"F\"\n",
    "data_spec1['gender'] = data_spec1['gender'].replace({\"Femal\":\"F\", \"female\": \"F\",})\n"
   ]
  },
  {
   "cell_type": "code",
   "execution_count": null,
   "id": "eb491311",
   "metadata": {},
   "outputs": [],
   "source": [
    "data_spec1['gender'] = data_spec1['gender'].replace({\"Male\":\"M\"})\n",
    "# Replace inconsistent and incorrect values with \"F\""
   ]
  },
  {
   "cell_type": "code",
   "execution_count": null,
   "id": "5d0c3054",
   "metadata": {},
   "outputs": [],
   "source": [
    "gender_counts = data_spec1['gender'].value_counts()\n",
    "\n",
    "# Display the count for each gender value\n",
    "for gender, count in gender_counts.items():\n",
    "    print(f\"{gender}: {count}\")\n"
   ]
  },
  {
   "cell_type": "code",
   "execution_count": null,
   "id": "b2f7bf0a",
   "metadata": {},
   "outputs": [],
   "source": [
    "data_spec1['gender'].unique() # looking at the output below we are now sure that the inconsistent values were changed to \"F\" and \"M\""
   ]
  },
  {
   "cell_type": "code",
   "execution_count": null,
   "id": "0d6f00df",
   "metadata": {},
   "outputs": [],
   "source": [
    "data_spec1['state'] = data_spec1['state'].replace({\"AZ\": \"Arizona\", \"Cali\": \"California\", \"WA\": \"Washington\"})\n",
    "# State abbreviationsreplaced with its full name, for example \"AZ\": \"Arizona\", \"Cali\": \"California\", \"WA\": \"Washington\""
   ]
  },
  {
   "cell_type": "code",
   "execution_count": null,
   "id": "1e0fa9d1",
   "metadata": {},
   "outputs": [],
   "source": [
    "state_counts = data_spec1['state'].value_counts()\n",
    "\n",
    "# Display the count for each state value to make sure that we do not have abbreviations\n",
    "for state, count in state_counts.items():\n",
    "    print(f\"{state}: {count}\")"
   ]
  },
  {
   "cell_type": "code",
   "execution_count": null,
   "id": "3c5f1eaf",
   "metadata": {},
   "outputs": [],
   "source": [
    "data_spec1['education'].unique()\n",
    "# Replacement of the value Bachelors to Bachelor"
   ]
  },
  {
   "cell_type": "code",
   "execution_count": null,
   "id": "7b851269",
   "metadata": {},
   "outputs": [],
   "source": [
    "data_spec1['education'] = data_spec1['education'].replace({'Bachelors':'Bachelor',})\n",
    "# Replacement of the value Bachelors to Bachelor"
   ]
  },
  {
   "cell_type": "code",
   "execution_count": null,
   "id": "6333cb6f",
   "metadata": {},
   "outputs": [],
   "source": [
    "data_spec1['education'].unique() \n",
    "# Replacement of the value Bachelors to Bachelor"
   ]
  },
  {
   "cell_type": "code",
   "execution_count": null,
   "id": "4bae003b",
   "metadata": {},
   "outputs": [],
   "source": [
    "# Remove the \"%\" character from the \"customer_lifetime_value\" column\n",
    "data_spec1['customer_lifetime_value'] = data_spec1['customer_lifetime_value'].str.replace('%', '')\n"
   ]
  },
  {
   "cell_type": "code",
   "execution_count": null,
   "id": "60143450",
   "metadata": {},
   "outputs": [],
   "source": [
    "data_spec1['customer_lifetime_value'].unique() \n",
    "# character \"%\" removed "
   ]
  },
  {
   "cell_type": "code",
   "execution_count": null,
   "id": "472778f8",
   "metadata": {},
   "outputs": [],
   "source": [
    "data_spec1['customer_lifetime_value'] = data_spec1['customer_lifetime_value'].astype(float)\n",
    "\n",
    "# divide the column customer_lifetime_vlaue by 100 but no after turning into a float"
   ]
  },
  {
   "cell_type": "code",
   "execution_count": null,
   "id": "a20d8595",
   "metadata": {},
   "outputs": [],
   "source": [
    "data_spec1['customer_lifetime_value'].unique()\n",
    "# column column customer_lifetime_vlaue is now a float as we can see below"
   ]
  },
  {
   "cell_type": "code",
   "execution_count": null,
   "id": "9e46ff42",
   "metadata": {},
   "outputs": [],
   "source": [
    "data_spec1['customer_lifetime_value'] = data_spec1['customer_lifetime_value']/100\n",
    "# code to divide by 100"
   ]
  },
  {
   "cell_type": "code",
   "execution_count": null,
   "id": "c0d5d43f",
   "metadata": {},
   "outputs": [],
   "source": [
    "data_spec1['customer_lifetime_value'].unique()\n",
    "# new result of the division by 100"
   ]
  },
  {
   "cell_type": "code",
   "execution_count": null,
   "id": "97f34cb6",
   "metadata": {},
   "outputs": [],
   "source": [
    "data_spec1['customer_lifetime_value'] = data_spec1['customer_lifetime_value'].round(2)\n",
    "# code to round the result of the division by 100 by 2 digits"
   ]
  },
  {
   "cell_type": "code",
   "execution_count": null,
   "id": "df930533",
   "metadata": {},
   "outputs": [],
   "source": [
    "data_spec1['customer_lifetime_value'].unique()\n",
    "# new result of the division by 100 rounded by 2 digits\n"
   ]
  },
  {
   "cell_type": "code",
   "execution_count": null,
   "id": "7bbcd157",
   "metadata": {},
   "outputs": [],
   "source": [
    "#In vehicle class column replace, \"Sports Car\", \"Luxury SUV\" and \"Luxury Car\" by \"Luxury\"\n",
    "\n",
    "data_spec1['vehicle_class'] = data_spec1['vehicle_class'].replace({\"Sports Car\":\"Luxury\", \"Luxury SUV\": \"Luxury\", \"Luxury Car\": \"Luxury\"})\n"
   ]
  },
  {
   "cell_type": "code",
   "execution_count": null,
   "id": "0278440a",
   "metadata": {},
   "outputs": [],
   "source": [
    "data_spec1['vehicle_class'].unique()"
   ]
  },
  {
   "cell_type": "markdown",
   "id": "85ff78ce-0174-4890-9db3-8048b7d7d2d0",
   "metadata": {
    "id": "85ff78ce-0174-4890-9db3-8048b7d7d2d0"
   },
   "source": [
    "## Exercise 3: Formatting data types"
   ]
  },
  {
   "cell_type": "markdown",
   "id": "b91c2cf8-79a2-4baf-9f65-ff2fb22270bd",
   "metadata": {
    "id": "b91c2cf8-79a2-4baf-9f65-ff2fb22270bd"
   },
   "source": [
    "The data types of many columns in the dataset appear to be incorrect. This could impact the accuracy of our analysis. To ensure accurate analysis, we need to correct the data types of these columns. Please update the data types of the columns as appropriate."
   ]
  },
  {
   "cell_type": "markdown",
   "id": "43e5d853-ff9e-43b2-9d92-aef2f78764f3",
   "metadata": {
    "id": "43e5d853-ff9e-43b2-9d92-aef2f78764f3"
   },
   "source": [
    "It is important to note that this exercise does not involve handling null values (NaN or None)."
   ]
  },
  {
   "cell_type": "markdown",
   "id": "329ca691-9196-4419-8969-3596746237a1",
   "metadata": {
    "id": "329ca691-9196-4419-8969-3596746237a1"
   },
   "source": [
    "*Hint*:\n",
    "- *Customer lifetime value should be numeric*\n",
    "- *Number of open complaints has an incorrect format. Look at the different values it takes with `unique()` and take the middle value. As an example, 1/5/00 should be 5. Number of open complaints is a string - remember you can use `split()` to deal with it and take the number you need. Finally, since it should be numeric, cast the column to be in its proper type.*"
   ]
  },
  {
   "cell_type": "code",
   "execution_count": null,
   "id": "eb8f5991-73e9-405f-bf1c-6b7c589379a9",
   "metadata": {
    "id": "eb8f5991-73e9-405f-bf1c-6b7c589379a9"
   },
   "outputs": [],
   "source": [
    "data_spec1.dtypes\n",
    "#Customer lifetime value should be numeric , as we can see below it is a float due to the code performed above in line 97 \n",
    "\n",
    "data_spec1['customer_lifetime_value'] = data_spec1['customer_lifetime_value'].astype(float)"
   ]
  },
  {
   "cell_type": "code",
   "execution_count": null,
   "id": "67c9d86d",
   "metadata": {},
   "outputs": [],
   "source": [
    "data_spec1['number_of_open_complaints'].unique()"
   ]
  },
  {
   "cell_type": "code",
   "execution_count": null,
   "id": "eba59784",
   "metadata": {},
   "outputs": [],
   "source": [
    "#the name number_of_open complaints suggests that this variable is a float or numeric but we can see above that is an object.\n",
    "\n",
    "data_spec1['number_of_open_complaints'] = data_spec1['number_of_open_complaints'].replace({\"A\": 0,\"B\": 1, \"C\":2,\"D\":3,\"E\": 4, \"F\":5})"
   ]
  },
  {
   "cell_type": "code",
   "execution_count": null,
   "id": "28218452",
   "metadata": {},
   "outputs": [],
   "source": [
    "data_spec1['number_of_open_complaints'].unique()"
   ]
  },
  {
   "cell_type": "code",
   "execution_count": null,
   "id": "a68b277c",
   "metadata": {},
   "outputs": [],
   "source": [
    "data_spec1.dtypes"
   ]
  },
  {
   "cell_type": "code",
   "execution_count": null,
   "id": "58b3bfeb",
   "metadata": {},
   "outputs": [],
   "source": []
  },
  {
   "cell_type": "markdown",
   "id": "14c52e28-2d0c-4dd2-8bd5-3476e34fadc1",
   "metadata": {
    "id": "14c52e28-2d0c-4dd2-8bd5-3476e34fadc1"
   },
   "source": [
    "## Exercise 4: Dealing with Null values"
   ]
  },
  {
   "cell_type": "code",
   "execution_count": null,
   "id": "1253c998",
   "metadata": {},
   "outputs": [],
   "source": [
    "# Identify columns with null values\n",
    "null_columns = data_spec1.columns[data_spec1.isnull().any()]\n",
    "\n",
    "# Count the number of null values (NaN) in each column\n",
    "null_counts = data_spec1[null_columns].isnull().sum()\n",
    "\n",
    "# Print the columns with null values and the number of null values in each\n",
    "for column, count in null_counts.items():\n",
    "    print(f\"Column '{column}' has {count} null values (NaN).\")\n",
    "\n",
    "\n"
   ]
  },
  {
   "cell_type": "markdown",
   "id": "34b9a20f-7d32-4417-975e-1b4dfb0e16cd",
   "metadata": {
    "id": "34b9a20f-7d32-4417-975e-1b4dfb0e16cd"
   },
   "source": [
    "Identify any columns with null or missing values. Identify how many null values each column has. You can use the `isnull()` function in pandas to find columns with null values.\n",
    "\n",
    "Decide on a strategy for handling the null values. There are several options, including:\n",
    "\n",
    "- Drop the rows or columns with null values\n",
    "- Fill the null values with a specific value (such as the column mean or median for numerical variables, and mode for categorical variables)\n",
    "- Fill the null values with the previous or next value in the column\n",
    "- Fill the null values based on a more complex algorithm or model (note: we haven't covered this yet)\n",
    "\n",
    "Implement your chosen strategy to handle the null values. You can use the `fillna()` function in pandas to fill null values or `dropna()` function to drop null values.\n",
    "\n",
    "Verify that your strategy has successfully handled the null values. You can use the `isnull()` function again to check if there are still null values in the dataset.\n",
    "\n",
    "Remember to document your process and explain your reasoning for choosing a particular strategy for handling null values.\n",
    "\n",
    "After formatting data types, as a last step, convert all the numeric variables to integers using `applymap()`."
   ]
  },
  {
   "cell_type": "code",
   "execution_count": null,
   "id": "f184fc35-7831-4836-a0a5-e7f99e01b40e",
   "metadata": {
    "id": "f184fc35-7831-4836-a0a5-e7f99e01b40e"
   },
   "outputs": [],
   "source": [
    "# List of columns to check for NaN values created\n",
    "columns_to_check = [\n",
    "    \"customer\",\n",
    "    \"state\",\n",
    "    \"gender\",\n",
    "    \"education\",\n",
    "    \"customer_lifetime_value\",\n",
    "    \"income\",\n",
    "    \"monthly_premium_auto\",\n",
    "    \"number_of_open_complaints\",\n",
    "    \"policy_type\",\n",
    "    \"vehicle_class\",\n",
    "    \"total_claim_amount\",\n",
    "]\n",
    "\n",
    "# To drop rows with NaN values it was used the dropna method with the subset parameter to drop rows that have NaN values\n",
    "data_spec1 = data_spec1.dropna(subset=columns_to_check)\n",
    "\n",
    "# The data_spec1 now contains rows with NaN values in the specified columns dropped.\n"
   ]
  },
  {
   "cell_type": "code",
   "execution_count": null,
   "id": "185c8743",
   "metadata": {},
   "outputs": [],
   "source": [
    "data_spec1"
   ]
  },
  {
   "cell_type": "markdown",
   "id": "98416351-e999-4156-9834-9b00a311adfa",
   "metadata": {
    "id": "98416351-e999-4156-9834-9b00a311adfa"
   },
   "source": [
    "## Exercise 5: Dealing with duplicates"
   ]
  },
  {
   "cell_type": "markdown",
   "id": "ea0816a7-a18e-4d4c-b667-a8452a800bd1",
   "metadata": {
    "id": "ea0816a7-a18e-4d4c-b667-a8452a800bd1"
   },
   "source": [
    "Use the `.duplicated()` method to identify any duplicate rows in the dataframe.\n",
    "\n",
    "Decide on a strategy for handling the duplicates. Options include:\n",
    "- Dropping all duplicate rows\n",
    "- Keeping only the first occurrence of each duplicated row\n",
    "- Keeping only the last occurrence of each duplicated row\n",
    "- Dropping duplicates based on a subset of columns\n",
    "- Dropping duplicates based on a specific column\n",
    "\n",
    "Implement your chosen strategy using the `drop_duplicates()` function.\n",
    "\n",
    "Verify that your strategy has successfully handled the duplicates by checking for duplicates again using `.duplicated()`.\n",
    "\n",
    "Remember to document your process and explain your reasoning for choosing a particular strategy for handling duplicates.\n",
    "\n",
    "Save the cleaned dataset to a new CSV file.\n",
    "\n",
    "*Hint*: *after dropping duplicates, reset the index to ensure consistency*."
   ]
  },
  {
   "cell_type": "code",
   "execution_count": null,
   "id": "1929362c-47ed-47cb-baca-358b78d401a0",
   "metadata": {
    "id": "1929362c-47ed-47cb-baca-358b78d401a0"
   },
   "outputs": [],
   "source": [
    "data_spec1 = data_spec1.drop_duplicates()\n",
    "\n",
    "\n",
    "# In this dealing with duplicates exercise that I later found out that should have been started in the very first line of command the outcome \n",
    "# is severly afected by the drop of the Nulls approach. The Data frame was with 4008 rows and 11 columns after the identification of Null elements and drop of those elements.\n",
    "# It went from 4008 rows to 952 and the number of columns maintained.\n",
    "# After running the duplicate identification we found out that the number of rows is still 952,which means that most of the duplicates were Null values and therefore already dropped.\n",
    "# So from the previous line and out of pure luck the null values drop as also treated the duplicates , leaving us with no action to take here."
   ]
  },
  {
   "cell_type": "code",
   "execution_count": null,
   "id": "cfddc63f",
   "metadata": {},
   "outputs": [],
   "source": [
    "data_spec1"
   ]
  },
  {
   "cell_type": "code",
   "execution_count": null,
   "id": "61d7c27c",
   "metadata": {},
   "outputs": [],
   "source": [
    "data_spec1.duplicated()"
   ]
  },
  {
   "cell_type": "markdown",
   "id": "60840701-4783-40e2-b4d8-55303f9100c9",
   "metadata": {
    "id": "60840701-4783-40e2-b4d8-55303f9100c9"
   },
   "source": [
    "# Bonus: Challenge 2: creating functions on a separate `py` file"
   ]
  },
  {
   "cell_type": "markdown",
   "id": "9d1adb3a-17cf-4899-8041-da21a4337fb4",
   "metadata": {
    "id": "9d1adb3a-17cf-4899-8041-da21a4337fb4"
   },
   "source": [
    "Put all the data cleaning and formatting steps into functions, and create a main function that performs all the cleaning and formatting.\n",
    "\n",
    "Write these functions in separate .py file(s). By putting these steps into functions, we can make the code more modular and easier to maintain."
   ]
  },
  {
   "cell_type": "markdown",
   "id": "0e170dc2-b62c-417a-8248-e63ed18a70c4",
   "metadata": {
    "id": "0e170dc2-b62c-417a-8248-e63ed18a70c4"
   },
   "source": [
    "*Hint: autoreload module is a utility module in Python that allows you to automatically reload modules in the current session when changes are made to the source code. This can be useful in situations where you are actively developing code and want to see the effects of changes you make without having to constantly restart the Python interpreter or Jupyter Notebook kernel.*"
   ]
  },
  {
   "cell_type": "code",
   "execution_count": null,
   "id": "a52c6dfc-cd11-4d01-bda4-f719fa33e9a4",
   "metadata": {
    "id": "a52c6dfc-cd11-4d01-bda4-f719fa33e9a4"
   },
   "outputs": [],
   "source": [
    "# Your code here"
   ]
  },
  {
   "cell_type": "markdown",
   "id": "80f846bb-3f5e-4ca2-96c0-900728daca5a",
   "metadata": {
    "id": "80f846bb-3f5e-4ca2-96c0-900728daca5a",
    "tags": []
   },
   "source": [
    "# Bonus: Challenge 3: Analyzing Clean and Formated Data"
   ]
  },
  {
   "cell_type": "markdown",
   "id": "9021630e-cc90-446c-b5bd-264d6c864207",
   "metadata": {
    "id": "9021630e-cc90-446c-b5bd-264d6c864207"
   },
   "source": [
    "You have been tasked with analyzing the data to identify potential areas for improving customer retention and profitability. Your goal is to identify customers with a high policy claim amount and a low customer lifetime value.\n",
    "\n",
    "In the Pandas Lab, we only looked at high policy claim amounts because we couldn't look into low customer lifetime values. If we had tried to work with that column, we wouldn't have been able to because customer lifetime value wasn't clean and in its proper format. So after cleaning and formatting the data, let's get some more interesting insights!\n",
    "\n",
    "Instructions:\n",
    "\n",
    "- Review the statistics again for total claim amount and customer lifetime value to gain an understanding of the data.\n",
    "- To identify potential areas for improving customer retention and profitability, we want to focus on customers with a high policy claim amount and a low customer lifetime value. Consider customers with a high policy claim amount to be those in the top 25% of the total claim amount, and clients with a low customer lifetime value to be those in the bottom 25% of the customer lifetime value. Create a pandas DataFrame object that contains information about customers with a policy claim amount greater than the 75th percentile and a customer lifetime value in the bottom 25th percentile.\n",
    "- Use DataFrame methods to calculate summary statistics about the high policy claim amount and low customer lifetime value data. To do so, select both columns of the dataframe simultaneously and pass it to the `.describe()` method. This will give you descriptive statistics, such as mean, median, standard deviation, minimum and maximum values for both columns at the same time, allowing you to compare and analyze their characteristics."
   ]
  },
  {
   "cell_type": "markdown",
   "id": "e0cdab96",
   "metadata": {},
   "source": [
    "# Cleaning/Wrangling/EDA"
   ]
  },
  {
   "cell_type": "code",
   "execution_count": null,
   "id": "211e82b5-461a-4d6f-8a23-4deccb84173c",
   "metadata": {
    "id": "211e82b5-461a-4d6f-8a23-4deccb84173c"
   },
   "outputs": [],
   "source": [
    "# Lab Customer Analysis Round 3"
   ]
  },
  {
   "cell_type": "code",
   "execution_count": null,
   "id": "58312791",
   "metadata": {},
   "outputs": [],
   "source": [
    "import matplotlib.pyplot as plt\n",
    "import seaborn as sns"
   ]
  },
  {
   "cell_type": "code",
   "execution_count": null,
   "id": "89552846",
   "metadata": {},
   "outputs": [],
   "source": [
    "data_spec1.info()\n",
    "\n",
    "#Show DataFrame info.\n",
    "#Describe DataFrame."
   ]
  },
  {
   "cell_type": "code",
   "execution_count": null,
   "id": "b42d6bb1",
   "metadata": {},
   "outputs": [],
   "source": [
    "data_spec1.describe()\n",
    "\n",
    "#Show DataFrame info.\n",
    "#Describe DataFrame."
   ]
  },
  {
   "cell_type": "code",
   "execution_count": null,
   "id": "a1e86dca",
   "metadata": {},
   "outputs": [],
   "source": [
    "def identify_dimensions(data_frame):\n",
    "   \n",
    "    num_rows, num_columns = data_spec1.shape\n",
    "    return num_rows, num_columns\n",
    "\n",
    "\n",
    "num_rows, num_columns = identify_dimensions(data_spec1)\n",
    "\n",
    "print(f\"Number of rows: {num_rows}\")\n",
    "print(f\"Number of columns: {num_columns}\")\n",
    "\n",
    "#Show DataFrame info.\n",
    "#Describe DataFrame."
   ]
  },
  {
   "cell_type": "code",
   "execution_count": null,
   "id": "9d6ae5b9",
   "metadata": {},
   "outputs": [],
   "source": [
    "sns.countplot(x='gender', data=data_spec1)"
   ]
  },
  {
   "cell_type": "code",
   "execution_count": null,
   "id": "4e9b5c67",
   "metadata": {},
   "outputs": [],
   "source": [
    "#from the plots below we can see that the gender F is the majority, this said we have more female costumers than masculin costumers"
   ]
  },
  {
   "cell_type": "code",
   "execution_count": null,
   "id": "f98ad0c1",
   "metadata": {},
   "outputs": [],
   "source": [
    "sns.barplot(y=\"state\", x=\"income\",data=data_spec1)"
   ]
  },
  {
   "cell_type": "code",
   "execution_count": null,
   "id": "385a5594",
   "metadata": {},
   "outputs": [],
   "source": [
    "# Income mean or average is higher in the Washington State"
   ]
  },
  {
   "cell_type": "code",
   "execution_count": null,
   "id": "cd1c0fce",
   "metadata": {},
   "outputs": [],
   "source": [
    "sns.barplot(x=\"policy_type\", y=\"total_claim_amount\",data=data_spec1)"
   ]
  },
  {
   "cell_type": "code",
   "execution_count": null,
   "id": "32683b82",
   "metadata": {},
   "outputs": [],
   "source": [
    "# the policy type Corporate Auto has the highest total claim amount average, and Personal Auto follows right after"
   ]
  },
  {
   "cell_type": "code",
   "execution_count": null,
   "id": "95a317eb",
   "metadata": {},
   "outputs": [],
   "source": [
    "unique_values = data_spec1['education'].unique()\n",
    "print(unique_values)"
   ]
  },
  {
   "cell_type": "code",
   "execution_count": null,
   "id": "ee9a592b",
   "metadata": {},
   "outputs": [],
   "source": [
    "unique_values = data_spec1['vehicle_class'].unique()\n",
    "print(unique_values)"
   ]
  },
  {
   "cell_type": "code",
   "execution_count": null,
   "id": "477e7fb0",
   "metadata": {},
   "outputs": [],
   "source": [
    "z = sns.histplot(data=data_spec1, x=\"education\", hue=\"vehicle_class\", multiple=\"dodge\", shrink=.8)\n",
    "plt.setp(z.get_xticklabels(), rotation=90)"
   ]
  },
  {
   "cell_type": "code",
   "execution_count": null,
   "id": "86056d0c",
   "metadata": {},
   "outputs": [],
   "source": [
    "sns.histplot(data=data_spec1, x=\"education\", hue=\"vehicle_class\", multiple=\"dodge\", shrink=.8)"
   ]
  },
  {
   "cell_type": "code",
   "execution_count": null,
   "id": "1552aebc",
   "metadata": {},
   "outputs": [],
   "source": [
    "# From the plots below we can see that surprisingly individuals with a higher level of education are associated with fewer luxury cars insurance and\n",
    "# insurance for luxury cars associated to individuals only with high school or below education level"
   ]
  },
  {
   "cell_type": "code",
   "execution_count": null,
   "id": "b2b8bf0c",
   "metadata": {},
   "outputs": [],
   "source": []
  },
  {
   "cell_type": "code",
   "execution_count": null,
   "id": "31215075",
   "metadata": {},
   "outputs": [],
   "source": [
    "#Lab Customer Analysis Round 4"
   ]
  },
  {
   "cell_type": "code",
   "execution_count": null,
   "id": "8e443298",
   "metadata": {},
   "outputs": [],
   "source": [
    "#Data Types of each column\n",
    "selected_columns = [\n",
    "    'customer',\n",
    "    'state',\n",
    "    'gender',\n",
    "    'education',\n",
    "    'customer_lifetime_value',\n",
    "    'income',\n",
    "    'monthly_premium_auto',\n",
    "    'number_of_open_complaints',\n",
    "    'policy_type',\n",
    "    'vehicle_class',\n",
    "    'total_claim_amount'\n",
    "]\n",
    "\n",
    "\n",
    "data_types = data_spec1[selected_columns].dtypes\n",
    "\n",
    "print(data_types)\n"
   ]
  },
  {
   "cell_type": "code",
   "execution_count": null,
   "id": "4e7c529b",
   "metadata": {},
   "outputs": [],
   "source": [
    "unique_complaints = data_spec1['number_of_open_complaints'].unique()\n",
    "\n",
    "# Print the unique values\n",
    "print(unique_complaints)\n"
   ]
  },
  {
   "cell_type": "code",
   "execution_count": null,
   "id": "d16c37fe",
   "metadata": {},
   "outputs": [],
   "source": [
    "data_spec1['customer_lifetime_value'] = data_spec1['customer_lifetime_value'].astype(float)"
   ]
  },
  {
   "cell_type": "code",
   "execution_count": null,
   "id": "a731ec6c",
   "metadata": {},
   "outputs": [],
   "source": [
    "selected_columns = [\n",
    "    'customer',\n",
    "    'state',\n",
    "    'gender',\n",
    "    'education',\n",
    "    'customer_lifetime_value',\n",
    "    'income',\n",
    "    'monthly_premium_auto',\n",
    "    'number_of_open_complaints',\n",
    "    'policy_type',\n",
    "    'vehicle_class',\n",
    "    'total_claim_amount'\n",
    "]\n",
    "\n",
    "\n",
    "data_types = data_spec1[selected_columns].dtypes\n",
    "\n",
    "print(data_types)"
   ]
  },
  {
   "cell_type": "code",
   "execution_count": null,
   "id": "f4383d41",
   "metadata": {},
   "outputs": [],
   "source": [
    "# Selecting numeric columns\n",
    "numerical = data_spec1.select_dtypes(include=[np.number])\n",
    "\n",
    "# Selecting categorical columns\n",
    "categorical = data_spec1.select_dtypes(include=[object])\n",
    "\n",
    "# Now, 'numerical' contains the numeric data, and 'categorical' contains the categorical data\n"
   ]
  },
  {
   "cell_type": "code",
   "execution_count": null,
   "id": "29799e8e",
   "metadata": {},
   "outputs": [],
   "source": [
    "numerical"
   ]
  },
  {
   "cell_type": "code",
   "execution_count": null,
   "id": "97714d24",
   "metadata": {},
   "outputs": [],
   "source": [
    "categorical"
   ]
  },
  {
   "cell_type": "code",
   "execution_count": null,
   "id": "3d8cc64c",
   "metadata": {},
   "outputs": [],
   "source": [
    "data_spec1['number_of_open_complaints'].unique()"
   ]
  },
  {
   "cell_type": "code",
   "execution_count": null,
   "id": "54560097",
   "metadata": {},
   "outputs": [],
   "source": [
    "recent_list = []\n",
    "\n",
    "for item in data_spec1[\"number_of_open_complaints\"]:\n",
    "    recent_list.append(item.split(\"/\")[1])\n",
    "    \n",
    "data_spec1['number_of_open_complaints']=recent_list\n",
    "data_spec1['number_of_open_complaints']"
   ]
  },
  {
   "cell_type": "code",
   "execution_count": null,
   "id": "6daf1094",
   "metadata": {},
   "outputs": [],
   "source": [
    "data_spec1['number_of_open_complaints']=pd.to_numeric(data_spec1['number_of_open_complaints'], errors = \"coerce\")"
   ]
  },
  {
   "cell_type": "code",
   "execution_count": null,
   "id": "2e46397d",
   "metadata": {},
   "outputs": [],
   "source": [
    "data_spec1.dtypes"
   ]
  },
  {
   "cell_type": "code",
   "execution_count": null,
   "id": "29a6a157",
   "metadata": {},
   "outputs": [],
   "source": [
    "from sklearn import linear_model"
   ]
  },
  {
   "cell_type": "code",
   "execution_count": null,
   "id": "bcd25b04",
   "metadata": {},
   "outputs": [],
   "source": [
    "# numerical' DataFrame from the previous step\n",
    "\n",
    "# Set up subplots for distribution plots\n",
    "fig, axes = plt.subplots(nrows=2, ncols=2, figsize=(12, 8))\n",
    "\n",
    "# Create distribution plots for each numerical variable\n",
    "sns.histplot(numerical['customer_lifetime_value'], kde=True, ax=axes[0, 0])\n",
    "axes[0, 0].set_title('Customer Lifetime Value')\n",
    "\n",
    "sns.histplot(numerical['income'], kde=True, ax=axes[0, 1])\n",
    "axes[0, 1].set_title('Income')\n",
    "\n",
    "sns.histplot(numerical['monthly_premium_auto'], kde=True, ax=axes[1, 0])\n",
    "axes[1, 0].set_title('Monthly Premium Auto')\n",
    "\n",
    "sns.histplot(numerical['total_claim_amount'], kde=True, ax=axes[1, 1])\n",
    "axes[1, 1].set_title('Total Claim Amount')\n",
    "\n",
    "#sns.histplot(categorical['number_of_open_complaints'], kde=True, ax=axes[0, 0])\n",
    "#axes[0, 0].set_title('Number_of_open_complaints')\n",
    "\n",
    "# Adjust spacing between subplots\n",
    "plt.tight_layout()\n",
    "\n",
    "# Show the plots\n",
    "plt.show()\n"
   ]
  },
  {
   "cell_type": "code",
   "execution_count": null,
   "id": "d94a11fc",
   "metadata": {},
   "outputs": [],
   "source": [
    "# Assuming you have the 'numerical' DataFrame from the previous steps\n",
    "\n",
    "# Create a distribution plot for \"customer_lifetime_value\"\n",
    "plt.figure(figsize=(8, 6))  # Set the figure size\n",
    "\n",
    "sns.distplot(numerical['customer_lifetime_value'], kde=True)\n",
    "plt.title(\"Customer Lifetime Value\")\n",
    "plt.xlabel(\"Customer Lifetime Value\")\n",
    "plt.ylabel(\"Density\")\n",
    "\n",
    "# Show the plot\n",
    "plt.show()\n"
   ]
  },
  {
   "cell_type": "code",
   "execution_count": null,
   "id": "621f4d00",
   "metadata": {},
   "outputs": [],
   "source": [
    "#Seaborn being used to build distribution plot\n",
    "\n",
    "plt.figure(figsize=(8, 6)) \n",
    "\n",
    "sns.distplot(numerical['income'], kde=True)\n",
    "plt.title(\"income\")\n",
    "plt.xlabel(\"income\")\n",
    "plt.ylabel(\"Density\")\n",
    "\n",
    "plt.show()"
   ]
  },
  {
   "cell_type": "code",
   "execution_count": null,
   "id": "867e3b3e",
   "metadata": {},
   "outputs": [],
   "source": [
    "plt.figure(figsize=(8, 6))  # Set the figure size\n",
    "\n",
    "sns.distplot(numerical['monthly_premium_auto'], kde=True)\n",
    "plt.title(\"monthly_premium_auto\")\n",
    "plt.xlabel(\"monthly_premium_auto\")\n",
    "plt.ylabel(\"Density\")\n",
    "\n",
    "plt.show()"
   ]
  },
  {
   "cell_type": "code",
   "execution_count": null,
   "id": "d035152e",
   "metadata": {},
   "outputs": [],
   "source": [
    "plt.figure(figsize=(8, 6))  # Set the figure size\n",
    "\n",
    "sns.distplot(numerical['total_claim_amount'], kde=True)\n",
    "plt.title(\"total_claim_amount\")\n",
    "plt.xlabel(\"total_claim_amount\")\n",
    "plt.ylabel(\"Density\")\n",
    "\n",
    "plt.show()"
   ]
  },
  {
   "cell_type": "code",
   "execution_count": null,
   "id": "5bac9366",
   "metadata": {},
   "outputs": [],
   "source": [
    "correlations_matrix = numerical.corr()\n",
    "correlations_matrix\n",
    "correlations_matrix = numerical.select_dtypes(\"number\").corr()\n",
    "correlations_matrix"
   ]
  },
  {
   "cell_type": "code",
   "execution_count": null,
   "id": "dc0d721a",
   "metadata": {},
   "outputs": [],
   "source": [
    "#Using numerical variables, to check multicollinearity between the variables in X\n",
    "\n",
    "correlation_matrix = numerical.corr()\n",
    "\n",
    "# Creation of a heatmap of the correlation matrix\n",
    "plt.figure(figsize=(10, 8))\n",
    "sns.heatmap(correlation_matrix, annot=True, cmap=\"coolwarm\", vmin=-1, vmax=1)\n",
    "\n",
    "plt.title(\"Correlation Heatmap\")\n",
    "plt.show()\n",
    "\n",
    "# Identification of pairs on highly correlated features\n",
    "highly_correlated_pairs = []\n",
    "for i in range(len(correlation_matrix.columns)):\n",
    "    for j in range(i):\n",
    "        if abs(correlation_matrix.iloc[i, j]) > 0.9:\n",
    "            highly_correlated_pairs.append((correlation_matrix.columns[i], correlation_matrix.columns[j]))\n"
   ]
  },
  {
   "cell_type": "code",
   "execution_count": null,
   "id": "08a26dd0",
   "metadata": {},
   "outputs": [],
   "source": [
    "# As we can see above from the multicolliniarity check frame the correlations are weak, so it doesn't seem to be that much of Multicolliniarity between the features."
   ]
  },
  {
   "cell_type": "code",
   "execution_count": null,
   "id": "43d174c3",
   "metadata": {},
   "outputs": [],
   "source": [
    "#Lab Customer Analysis Round 5"
   ]
  },
  {
   "cell_type": "code",
   "execution_count": null,
   "id": "082cdc7e",
   "metadata": {},
   "outputs": [],
   "source": [
    "from sklearn import linear_model\n",
    "from sklearn.metrics import mean_squared_error, r2_score"
   ]
  },
  {
   "cell_type": "code",
   "execution_count": null,
   "id": "030fd41c",
   "metadata": {},
   "outputs": [],
   "source": [
    "# X y split\n",
    "\n",
    "X=data_spec1.drop(['total_claim_amount'], axis=1)\n",
    "y=data_spec1['total_claim_amount']\n"
   ]
  },
  {
   "cell_type": "code",
   "execution_count": null,
   "id": "47231985",
   "metadata": {},
   "outputs": [],
   "source": [
    "numerical"
   ]
  },
  {
   "cell_type": "code",
   "execution_count": null,
   "id": "f0b46075",
   "metadata": {},
   "outputs": [],
   "source": [
    "categorical"
   ]
  },
  {
   "cell_type": "code",
   "execution_count": null,
   "id": "65c0625d",
   "metadata": {},
   "outputs": [],
   "source": [
    "# If the 'customer' column exists, this code will remove it.\n",
    "if 'customer' in data_spec1.columns:\n",
    "    categorical = data_spec1.drop(columns=['customer'])\n",
    "\n",
    "# Now, the 'customer' column has been dropped from the 'categorical' DataFrame.\n"
   ]
  },
  {
   "cell_type": "code",
   "execution_count": null,
   "id": "a642ea0d",
   "metadata": {},
   "outputs": [],
   "source": [
    "categorical"
   ]
  },
  {
   "cell_type": "code",
   "execution_count": null,
   "id": "367ee021",
   "metadata": {},
   "outputs": [],
   "source": [
    "X_num1 = X.select_dtypes(include = np.number)\n",
    "X_cat1 = X.select_dtypes(include = object)"
   ]
  },
  {
   "cell_type": "code",
   "execution_count": null,
   "id": "6be0ac24",
   "metadata": {},
   "outputs": [],
   "source": [
    "X_num1.shape"
   ]
  },
  {
   "cell_type": "code",
   "execution_count": null,
   "id": "ff46c279",
   "metadata": {},
   "outputs": [],
   "source": [
    "X_num1"
   ]
  },
  {
   "cell_type": "code",
   "execution_count": null,
   "id": "617237cf",
   "metadata": {},
   "outputs": [],
   "source": [
    "X_cat1"
   ]
  },
  {
   "cell_type": "code",
   "execution_count": null,
   "id": "6069a2e6",
   "metadata": {},
   "outputs": [],
   "source": [
    "from sklearn import linear_model\n",
    "from sklearn.metrics import mean_squared_error, r2_score"
   ]
  },
  {
   "cell_type": "code",
   "execution_count": null,
   "id": "14c03251",
   "metadata": {},
   "outputs": [],
   "source": [
    "X_num1.describe()"
   ]
  },
  {
   "cell_type": "code",
   "execution_count": null,
   "id": "d9e2ee28",
   "metadata": {},
   "outputs": [],
   "source": [
    "from sklearn.preprocessing import StandardScaler\n",
    "from sklearn.preprocessing import MinMaxScaler"
   ]
  },
  {
   "cell_type": "code",
   "execution_count": null,
   "id": "133aebb0",
   "metadata": {},
   "outputs": [],
   "source": [
    "transformer = MinMaxScaler().fit(X_num1)\n",
    "X_norm = transformer.transform(X_num1)\n",
    "print(X_norm.shape)\n",
    "X_num_scale = pd.DataFrame(X_norm, columns=X_num1.columns)\n",
    "X_num_scale"
   ]
  },
  {
   "cell_type": "markdown",
   "id": "524ccca0",
   "metadata": {},
   "source": [
    "# Modeling"
   ]
  },
  {
   "cell_type": "code",
   "execution_count": null,
   "id": "396a3bc5",
   "metadata": {},
   "outputs": [],
   "source": [
    "#Lab Customer Analysis Round 6"
   ]
  },
  {
   "cell_type": "code",
   "execution_count": null,
   "id": "bb7070b9",
   "metadata": {},
   "outputs": [],
   "source": [
    "from sklearn.preprocessing import OneHotEncoder"
   ]
  },
  {
   "cell_type": "code",
   "execution_count": null,
   "id": "c1ca13f6",
   "metadata": {},
   "outputs": [],
   "source": [
    "if 'customer' in X_cat1.columns:\n",
    "    categorical = X_cat1.drop(columns=['customer'])"
   ]
  },
  {
   "cell_type": "code",
   "execution_count": null,
   "id": "8d858a82",
   "metadata": {},
   "outputs": [],
   "source": [
    "X_cat1.drop(X_cat1.columns[[0]], axis=1, inplace=True)"
   ]
  },
  {
   "cell_type": "code",
   "execution_count": null,
   "id": "238aae67",
   "metadata": {},
   "outputs": [],
   "source": [
    "X_cat1"
   ]
  },
  {
   "cell_type": "code",
   "execution_count": null,
   "id": "665e96a5",
   "metadata": {
    "scrolled": false
   },
   "outputs": [],
   "source": [
    "#OneHot Encoding for categorical variables\n",
    "\n",
    "encoder = OneHotEncoder(drop=\"first\").fit(X_cat1)\n",
    "encoded = encoder.transform(X_cat1).toarray()\n",
    "X_cat_encode = pd.DataFrame(encoded,columns=encoder.get_feature_names_out())\n",
    "X_cat_encode.head()"
   ]
  },
  {
   "cell_type": "code",
   "execution_count": null,
   "id": "a2d2dc23",
   "metadata": {},
   "outputs": [],
   "source": [
    "#Concat DataFrames encoded categorical + numerical = conc_num_cat\n",
    "\n",
    "X = pd.concat([X_num_scale,X_cat_encode],axis=1)"
   ]
  },
  {
   "cell_type": "code",
   "execution_count": null,
   "id": "3a554a54",
   "metadata": {},
   "outputs": [],
   "source": [
    "X"
   ]
  },
  {
   "cell_type": "code",
   "execution_count": null,
   "id": "f432acd8",
   "metadata": {},
   "outputs": [],
   "source": [
    "X.shape"
   ]
  },
  {
   "cell_type": "markdown",
   "id": "c76f7fad",
   "metadata": {},
   "source": [
    "# Model Validation"
   ]
  },
  {
   "cell_type": "code",
   "execution_count": null,
   "id": "39b4c03a",
   "metadata": {},
   "outputs": [],
   "source": [
    "# Lab Customer Analysis Round 7"
   ]
  },
  {
   "cell_type": "code",
   "execution_count": null,
   "id": "234248fa",
   "metadata": {},
   "outputs": [],
   "source": [
    "y = data_spec1 ['total_claim_amount']\n",
    "y         "
   ]
  },
  {
   "cell_type": "code",
   "execution_count": null,
   "id": "de93217f",
   "metadata": {},
   "outputs": [],
   "source": [
    "# Model Validation\n",
    "#With these parameters, the train_test_split function will split our data  Here’s the code to do this if we want our test data to be 10% of the entire data set:\n",
    "\n",
    "from sklearn.model_selection import train_test_split\n",
    "X_train, X_test, y_train, y_test = train_test_split(X, y, test_size=0.1, random_state=42)"
   ]
  },
  {
   "cell_type": "code",
   "execution_count": null,
   "id": "dd895449",
   "metadata": {},
   "outputs": [],
   "source": [
    "print(X_train.shape)\n",
    "print(X_test.shape)\n",
    "print(y_train.shape)\n",
    "print(y_test.shape)"
   ]
  },
  {
   "cell_type": "code",
   "execution_count": null,
   "id": "e043d41f",
   "metadata": {},
   "outputs": [],
   "source": [
    "X_train.head()"
   ]
  },
  {
   "cell_type": "code",
   "execution_count": null,
   "id": "0b3a077d",
   "metadata": {},
   "outputs": [],
   "source": [
    "y_train.head()"
   ]
  },
  {
   "cell_type": "code",
   "execution_count": null,
   "id": "6504619a",
   "metadata": {},
   "outputs": [],
   "source": [
    "from sklearn.linear_model import LinearRegression"
   ]
  },
  {
   "cell_type": "code",
   "execution_count": null,
   "id": "d244a248",
   "metadata": {},
   "outputs": [],
   "source": [
    "lm = linear_model.LinearRegression()\n",
    "lm.fit(X_train,y_train)"
   ]
  },
  {
   "cell_type": "code",
   "execution_count": null,
   "id": "4ae6652f",
   "metadata": {},
   "outputs": [],
   "source": [
    "from sklearn.metrics import r2_score\n",
    "predictions = lm.predict(X_train)\n",
    "r2_score(y_train, predictions)"
   ]
  },
  {
   "cell_type": "code",
   "execution_count": null,
   "id": "c241ad21",
   "metadata": {},
   "outputs": [],
   "source": [
    "predictions_test = lm.predict(X_test)\n",
    "r2_score(y_test, predictions_test)"
   ]
  },
  {
   "cell_type": "code",
   "execution_count": null,
   "id": "25ef011f",
   "metadata": {},
   "outputs": [],
   "source": [
    "y_test[:5]"
   ]
  },
  {
   "cell_type": "code",
   "execution_count": null,
   "id": "9d4cf212",
   "metadata": {},
   "outputs": [],
   "source": [
    "predictions_test[:5]"
   ]
  },
  {
   "cell_type": "code",
   "execution_count": null,
   "id": "8080e4e5",
   "metadata": {},
   "outputs": [],
   "source": [
    "# Model validation\n",
    "\n",
    "from sklearn.metrics import mean_squared_error\n",
    "mse=mean_squared_error(y_test,predictions_test)\n",
    "mse"
   ]
  },
  {
   "cell_type": "code",
   "execution_count": null,
   "id": "7bbef4f3",
   "metadata": {},
   "outputs": [],
   "source": [
    "# Model Validation\n",
    "\n",
    "rmse = np.sqrt(mean_squared_error(y_test,predictions_test))\n",
    "rmse"
   ]
  },
  {
   "cell_type": "code",
   "execution_count": null,
   "id": "58665934",
   "metadata": {},
   "outputs": [],
   "source": [
    "from sklearn.metrics import mean_absolute_error, r2_score"
   ]
  },
  {
   "cell_type": "code",
   "execution_count": null,
   "id": "6f919451",
   "metadata": {},
   "outputs": [],
   "source": [
    "# Model Validation\n",
    "\n",
    "mae = mean_absolute_error(y_test, predictions_test)\n",
    "print(mae)"
   ]
  },
  {
   "cell_type": "code",
   "execution_count": null,
   "id": "9828d63b",
   "metadata": {},
   "outputs": [],
   "source": [
    "# Model Validation\n",
    "\n",
    "#Mean Absolute Error (MAE) tells us the average error in units of y the predicted feature. A value of 0 indicates a perfect fit. \n",
    "\n",
    "#Root Mean Square Error (RMSE) indicates the average error in units of y the predicted feature, but penalizes larger errors more severely than MAE. A value of 0 indicates a perfect fit. \n",
    "\n",
    "# R-squared (R2) tells us the degree to which the model explains the variance in the data. In other words how much better it is than just predicting the mean. \n",
    "\n",
    "#A value of 1 indicates a perfect fit and ours is 0.4569267089775002\n",
    "\n",
    "#A value of 0 indicates a model no better than the mean. \n",
    "\n",
    "#A value less than 0 indicates a model worse than just predicting the mean.\n",
    "\n"
   ]
  },
  {
   "cell_type": "code",
   "execution_count": null,
   "id": "de7b1caf",
   "metadata": {},
   "outputs": [],
   "source": [
    "mae.round(2)"
   ]
  },
  {
   "cell_type": "code",
   "execution_count": null,
   "id": "50c6ba92",
   "metadata": {},
   "outputs": [],
   "source": [
    "#Trying to improve the linear regression model by changing the ratio to 0.33"
   ]
  },
  {
   "cell_type": "code",
   "execution_count": null,
   "id": "54f6546b",
   "metadata": {},
   "outputs": [],
   "source": [
    "X_train, X_test, y_train, y_test = train_test_split(X, y, test_size=0.33, random_state=42)"
   ]
  },
  {
   "cell_type": "code",
   "execution_count": null,
   "id": "6ff74b2d",
   "metadata": {},
   "outputs": [],
   "source": [
    "print(X_train.shape)\n",
    "print(X_test.shape)\n",
    "print(y_train.shape)\n",
    "print(y_test.shape)"
   ]
  },
  {
   "cell_type": "code",
   "execution_count": null,
   "id": "7dd55fc9",
   "metadata": {},
   "outputs": [],
   "source": [
    "y_train.head()\n",
    "y_train.round(2)"
   ]
  },
  {
   "cell_type": "code",
   "execution_count": null,
   "id": "7ac46b8b",
   "metadata": {},
   "outputs": [],
   "source": [
    "predictions = lm.predict(X_train)\n",
    "r2_score(y_train, predictions)"
   ]
  },
  {
   "cell_type": "code",
   "execution_count": null,
   "id": "a5ec5ae4",
   "metadata": {},
   "outputs": [],
   "source": [
    "predictions_test = lm.predict(X_test)\n",
    "r2_score(y_test, predictions_test)\n",
    "#So at this point as we can see below changing the ratio of train split test to 0.33 has actually helped to worsen the model going from the previous\n",
    "# 0.4569267089775002(closer to 1 which indicates perfect fit) to 0.3939534536623036 (A value of 0 indicates a model no better than the mean)"
   ]
  },
  {
   "cell_type": "code",
   "execution_count": null,
   "id": "7ae4b331",
   "metadata": {},
   "outputs": [],
   "source": [
    "y_test[:4]"
   ]
  },
  {
   "cell_type": "code",
   "execution_count": null,
   "id": "dbb6444f",
   "metadata": {},
   "outputs": [],
   "source": [
    "predictions_test[:4]"
   ]
  },
  {
   "cell_type": "code",
   "execution_count": null,
   "id": "019f8bd6",
   "metadata": {},
   "outputs": [],
   "source": [
    "mae = mean_absolute_error(y_test, predictions_test)\n",
    "mae\n",
    "mae.round(2)"
   ]
  },
  {
   "cell_type": "code",
   "execution_count": null,
   "id": "28a6225a",
   "metadata": {},
   "outputs": [],
   "source": [
    "rmse = np.sqrt(mean_squared_error(y_test,predictions_test))\n",
    "rmse\n",
    "rmse.round(2)"
   ]
  },
  {
   "cell_type": "code",
   "execution_count": null,
   "id": "e7d2a42b",
   "metadata": {},
   "outputs": [],
   "source": [
    "mse=mean_squared_error(y_test,predictions_test)\n",
    "mse\n",
    "mse.round(2)"
   ]
  },
  {
   "cell_type": "code",
   "execution_count": null,
   "id": "9591ab19",
   "metadata": {},
   "outputs": [],
   "source": [
    "# Accordingly to changes done in ratio to 0.33 and after the measures retrieved for margin of error, the model got worse , this happens due\n",
    "# to the few features that were used in the prediction model. The model will not improve even if we try different approaches such as normalizong the variables\n",
    "# or choosing variables with more correlation between themselves.(the features are very few).\n",
    "# "
   ]
  },
  {
   "cell_type": "code",
   "execution_count": null,
   "id": "dd656a6a",
   "metadata": {},
   "outputs": [],
   "source": []
  }
 ],
 "metadata": {
  "colab": {
   "provenance": []
  },
  "kernelspec": {
   "display_name": "Python 3 (ipykernel)",
   "language": "python",
   "name": "python3"
  },
  "language_info": {
   "codemirror_mode": {
    "name": "ipython",
    "version": 3
   },
   "file_extension": ".py",
   "mimetype": "text/x-python",
   "name": "python",
   "nbconvert_exporter": "python",
   "pygments_lexer": "ipython3",
   "version": "3.10.9"
  }
 },
 "nbformat": 4,
 "nbformat_minor": 5
}
